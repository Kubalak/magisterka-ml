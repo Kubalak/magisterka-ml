{
 "cells": [
  {
   "cell_type": "code",
   "execution_count": 1,
   "metadata": {},
   "outputs": [],
   "source": [
    "import tensorflow as tf\n",
    "import os, re\n",
    "import random\n",
    "from object_detection.protos import string_int_label_map_pb2"
   ]
  },
  {
   "cell_type": "code",
   "execution_count": null,
   "metadata": {},
   "outputs": [],
   "source": [
    "%cd .."
   ]
  },
  {
   "cell_type": "code",
   "execution_count": 2,
   "metadata": {},
   "outputs": [],
   "source": [
    "files = os.listdir(\"workspace/data-jpg\")"
   ]
  },
  {
   "cell_type": "code",
   "execution_count": 3,
   "metadata": {},
   "outputs": [],
   "source": [
    "files = [*filter(lambda z: not z.endswith('.pbtxt') and not z.endswith('.tfrecords'), files)]"
   ]
  },
  {
   "cell_type": "code",
   "execution_count": 4,
   "metadata": {},
   "outputs": [
    {
     "data": {
      "text/plain": [
       "40000"
      ]
     },
     "execution_count": 4,
     "metadata": {},
     "output_type": "execute_result"
    }
   ],
   "source": [
    "len(files)"
   ]
  },
  {
   "cell_type": "code",
   "execution_count": 5,
   "metadata": {},
   "outputs": [],
   "source": [
    "regex = re.compile(\"^\\\\d+\")\n",
    "classes = {}"
   ]
  },
  {
   "cell_type": "code",
   "execution_count": 6,
   "metadata": {},
   "outputs": [],
   "source": [
    "for file in files:\n",
    "    classes[regex.search(file).group(0)] = []"
   ]
  },
  {
   "cell_type": "code",
   "execution_count": 7,
   "metadata": {},
   "outputs": [],
   "source": [
    "for file in files:\n",
    "    classes[regex.search(file).group(0)].append(file)"
   ]
  },
  {
   "cell_type": "code",
   "execution_count": 8,
   "metadata": {},
   "outputs": [],
   "source": [
    "for class_name in classes:\n",
    "    classes[class_name] = classes[class_name][:50]"
   ]
  },
  {
   "cell_type": "code",
   "execution_count": 9,
   "metadata": {},
   "outputs": [
    {
     "data": {
      "text/plain": [
       "50"
      ]
     },
     "execution_count": 9,
     "metadata": {},
     "output_type": "execute_result"
    }
   ],
   "source": [
    "names = [*classes]\n",
    "# names = names[:10]\n",
    "len(classes[[*names][0]])"
   ]
  },
  {
   "cell_type": "code",
   "execution_count": 10,
   "metadata": {},
   "outputs": [],
   "source": [
    "train_ds = []\n",
    "eval_ds = []"
   ]
  },
  {
   "cell_type": "code",
   "execution_count": 11,
   "metadata": {},
   "outputs": [],
   "source": [
    "train_ratio = 0.8 # eval 0.2\n",
    "\n",
    "for class_id in names:\n",
    "    num_choices = len(classes[class_id])\n",
    "    choices = [*range(num_choices)]\n",
    "    _train = random.sample(choices, int(train_ratio * num_choices))\n",
    "    _eval = [*filter(lambda z: z not in _train, choices)]\n",
    "    train_ds.extend(map(lambda z: classes[class_id][z], _train))\n",
    "    eval_ds.extend(map(lambda z: classes[class_id][z], _eval))\n",
    "    "
   ]
  },
  {
   "cell_type": "code",
   "execution_count": 12,
   "metadata": {},
   "outputs": [],
   "source": [
    "train_records = tf.data.TFRecordDataset([*map(lambda z: os.path.join('workspace', 'data-jpg', z), train_ds)])\n",
    "eval_records = tf.data.TFRecordDataset([*map(lambda z: os.path.join('workspace', 'data-jpg', z), eval_ds)])"
   ]
  },
  {
   "cell_type": "code",
   "execution_count": 13,
   "metadata": {},
   "outputs": [
    {
     "name": "stdout",
     "output_type": "stream",
     "text": [
      "500\n"
     ]
    }
   ],
   "source": [
    "counter = 0\n",
    "with tf.io.TFRecordWriter(\"workspace/data-jpg/eval-sm.tfrecords\") as writer:\n",
    "    for record in eval_records.take(len(eval_ds)):\n",
    "        tf_record = tf.train.Example()\n",
    "        tf_record.ParseFromString(record.numpy())\n",
    "        counter+=1\n",
    "        writer.write(tf_record.SerializeToString())\n",
    "\n",
    "print(counter)"
   ]
  },
  {
   "cell_type": "code",
   "execution_count": 14,
   "metadata": {},
   "outputs": [
    {
     "name": "stdout",
     "output_type": "stream",
     "text": [
      "2000\n"
     ]
    }
   ],
   "source": [
    "counter = 0\n",
    "with tf.io.TFRecordWriter(\"workspace/data-jpg/train-sm.tfrecords\") as writer:\n",
    "    for record in train_records.take(len(train_ds)):\n",
    "        tf_record = tf.train.Example()\n",
    "        tf_record.ParseFromString(record.numpy())\n",
    "        counter+=1\n",
    "        writer.write(tf_record.SerializeToString())\n",
    "\n",
    "print(counter)"
   ]
  },
  {
   "cell_type": "code",
   "execution_count": 34,
   "metadata": {},
   "outputs": [
    {
     "name": "stdout",
     "output_type": "stream",
     "text": [
      "item {\n",
      "  id: 1\n",
      "  name: '3069 Flat Tile 1x2'\n",
      "}\n",
      "item {\n",
      "  id: 2\n",
      "  name: '3001 brick 2x4'\n",
      "}\n",
      "item {\n",
      "  id: 3\n",
      "  name: '3002 brick 2x3'\n",
      "}\n",
      "item {\n",
      "  id: 4\n",
      "  name: '3062 Round Brick 1x1'\n",
      "}\n",
      "item {\n",
      "  id: 5\n",
      "  name: '4274 Connector Peg w Knob'\n",
      "}\n",
      "item {\n",
      "  id: 6\n",
      "  name: '3063 Curved Brick 2 Knobs'\n",
      "}\n",
      "item {\n",
      "  id: 7\n",
      "  name: '3022 Plate 2x2'\n",
      "}\n",
      "item {\n",
      "  id: 8\n",
      "  name: '54200 roof tile 1x1'\n",
      "}\n",
      "item {\n",
      "  id: 9\n",
      "  name: '3023 Plate 1x2'\n",
      "}\n",
      "item {\n",
      "  id: 10\n",
      "  name: '3040 roof tile 1x2'\n",
      "}\n",
      "item {\n",
      "  id: 11\n",
      "  name: '4490 brick bow 1x3'\n",
      "}\n",
      "item {\n",
      "  id: 12\n",
      "  name: '3039 roof tile 2x2'\n",
      "}\n",
      "item {\n",
      "  id: 13\n",
      "  name: '3046 roof corner inside tile 2x2'\n",
      "}\n",
      "item {\n",
      "  id: 14\n",
      "  name: '6143 Brick D16 w cross'\n",
      "}\n",
      "item {\n",
      "  id: 15\n",
      "  name: '41677 lever 2M'\n",
      "}\n",
      "item {\n",
      "  id: 16\n",
      "  name: '2357 brick corner 1x2x2'\n",
      "}\n",
      "item {\n",
      "  id: 17\n",
      "  name: '3794 Plate 1X2 with 1 Knob'\n",
      "}\n",
      "item {\n",
      "  id: 18\n",
      "  name: '4286 roof tile 1x3'\n",
      "}\n",
      "item {\n",
      "  id: 19\n",
      "  name: '33909 plate 2 knobs 2x2'\n",
      "}\n",
      "item {\n",
      "  id: 20\n",
      "  name: '2420 plate corner 2x2'\n",
      "}\n",
      "item {\n",
      "  id: 21\n",
      "  name: '41678 Cross Block Fork 2x2'\n",
      "}\n",
      "item {\n",
      "  id: 22\n",
      "  name: '3622 brick 1x3'\n",
      "}\n",
      "item {\n",
      "  id: 23\n",
      "  name: '18654 beam 1M'\n",
      "}\n",
      "item {\n",
      "  id: 24\n",
      "  name: '43093 Bush 2M friction - Cross axle'\n",
      "}\n",
      "item {\n",
      "  id: 25\n",
      "  name: '85984 roof tile 1x2'\n",
      "}\n",
      "item {\n",
      "  id: 26\n",
      "  name: '3659 brick bow 1x4'\n",
      "}\n",
      "item {\n",
      "  id: 27\n",
      "  name: '3024 plate 1x1'\n",
      "}\n",
      "item {\n",
      "  id: 28\n",
      "  name: '4150 flat tile round 2x2'\n",
      "}\n",
      "item {\n",
      "  id: 29\n",
      "  name: '3005 brick 1x1'\n",
      "}\n",
      "item {\n",
      "  id: 30\n",
      "  name: '15672 roof tile 1x2'\n",
      "}\n",
      "item {\n",
      "  id: 31\n",
      "  name: '3021 plate 2x3'\n",
      "}\n",
      "item {\n",
      "  id: 32\n",
      "  name: '6632 lever 3M'\n",
      "}\n",
      "item {\n",
      "  id: 33\n",
      "  name: '2780 Peg with friction'\n",
      "}\n",
      "item {\n",
      "  id: 34\n",
      "  name: '3675 roof tile outside 3x3'\n",
      "}\n",
      "item {\n",
      "  id: 35\n",
      "  name: '99301 roof tile inside 3x3'\n",
      "}\n",
      "item {\n",
      "  id: 36\n",
      "  name: '3045 roof corner outside tile 2x2'\n",
      "}\n",
      "item {\n",
      "  id: 37\n",
      "  name: '3038 roof tile 2x3'\n",
      "}\n",
      "item {\n",
      "  id: 38\n",
      "  name: '3070 Flat Tile 1x1'\n",
      "}\n",
      "item {\n",
      "  id: 39\n",
      "  name: '3298 roof tile 2x3'\n",
      "}\n",
      "item {\n",
      "  id: 40\n",
      "  name: '14719 flat tile corner 2x2'\n",
      "}\n",
      "item {\n",
      "  id: 41\n",
      "  name: '3700 Technic Brick 1x2'\n",
      "}\n",
      "item {\n",
      "  id: 42\n",
      "  name: '3037 roof tile 1x4'\n",
      "}\n",
      "item {\n",
      "  id: 43\n",
      "  name: '3004 brick 1x2'\n",
      "}\n",
      "item {\n",
      "  id: 44\n",
      "  name: '3003 brick 2x2'\n",
      "}\n",
      "item {\n",
      "  id: 45\n",
      "  name: '3068 flat tile 2x2'\n",
      "}\n",
      "item {\n",
      "  id: 46\n",
      "  name: '43857 beam 1x2'\n",
      "}\n",
      "item {\n",
      "  id: 47\n",
      "  name: '3623 Plate 1x3'\n",
      "}\n",
      "item {\n",
      "  id: 48\n",
      "  name: '27925 flat tile round 2x2'\n",
      "}\n",
      "item {\n",
      "  id: 49\n",
      "  name: '3010 brick 1x4'\n",
      "}\n",
      "item {\n",
      "  id: 50\n",
      "  name: '3020 plate 2x4'\n",
      "}\n",
      "\n"
     ]
    }
   ],
   "source": [
    "with tf.io.gfile.GFile('workspace/data-jpg/label_map.pbtxt', 'r') as fid:\n",
    "    label_map_string = fid.read()\n",
    "    label_map = string_int_label_map_pb2.StringIntLabelMap()\n",
    "print(label_map_string)"
   ]
  }
 ],
 "metadata": {
  "kernelspec": {
   "display_name": "mgr",
   "language": "python",
   "name": "python3"
  },
  "language_info": {
   "codemirror_mode": {
    "name": "ipython",
    "version": 3
   },
   "file_extension": ".py",
   "mimetype": "text/x-python",
   "name": "python",
   "nbconvert_exporter": "python",
   "pygments_lexer": "ipython3",
   "version": "3.10.3"
  }
 },
 "nbformat": 4,
 "nbformat_minor": 2
}
