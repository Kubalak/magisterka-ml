{
 "cells": [
  {
   "cell_type": "code",
   "execution_count": 2,
   "metadata": {},
   "outputs": [],
   "source": [
    "import os\n",
    "import ast\n",
    "import json\n",
    "import numpy as np\n",
    "import pandas as pd\n",
    "from sklearn.metrics import average_precision_score, recall_score, precision_score, classification_report\n",
    "from detection_utils.metrics import IoU, generate_report, matrix_from_df, class_report, precision, recall \n",
    "import matplotlib.pyplot as plt"
   ]
  },
  {
   "cell_type": "code",
   "execution_count": null,
   "metadata": {},
   "outputs": [],
   "source": [
    "%cd .."
   ]
  },
  {
   "cell_type": "code",
   "execution_count": 4,
   "metadata": {},
   "outputs": [],
   "source": [
    "def avg_IoU(df:pd.DataFrame):\n",
    "    return df['iou'].mean()\n",
    "        \n",
    "\n",
    "def val_report(modelname):\n",
    "    df = pd.read_csv(os.path.join('workspace', 'exported_models', modelname, 'validation_results.csv'))\n",
    "    iou_pd = pd.read_csv(os.path.join('workspace', 'exported_models', modelname, 'iou_results.csv'))\n",
    "    df['boxes'] = [*map(ast.literal_eval, df['boxes'].tolist())]\n",
    "    df['original_class'] = [*map(lambda z: z[:-9], df['image'].tolist())]\n",
    "    df['best_class'] = df['best_class'].astype(str)\n",
    "    df.loc[df['best'].isna(), ['best_class']] = '-'\n",
    "    yt, yp = matrix_from_df(df)\n",
    "    report = class_report(yt,yp)\n",
    "    pr = precision(report)\n",
    "    rc = recall(report)\n",
    "    details = generate_report(pr, rc)\n",
    "    details['avg iou'] = avg_IoU(iou_pd)\n",
    "    return pd.DataFrame([details], index=[modelname])\n"
   ]
  },
  {
   "cell_type": "code",
   "execution_count": 1,
   "metadata": {},
   "outputs": [
    {
     "ename": "NameError",
     "evalue": "name 'pd' is not defined",
     "output_type": "error",
     "traceback": [
      "\u001b[1;31m---------------------------------------------------------------------------\u001b[0m",
      "\u001b[1;31mNameError\u001b[0m                                 Traceback (most recent call last)",
      "Cell \u001b[1;32mIn[1], line 1\u001b[0m\n\u001b[1;32m----> 1\u001b[0m df \u001b[38;5;241m=\u001b[39m \u001b[43mpd\u001b[49m\u001b[38;5;241m.\u001b[39mread_csv(os\u001b[38;5;241m.\u001b[39mpath\u001b[38;5;241m.\u001b[39mjoin(\u001b[38;5;124m'\u001b[39m\u001b[38;5;124mworkspace\u001b[39m\u001b[38;5;124m'\u001b[39m, \u001b[38;5;124m'\u001b[39m\u001b[38;5;124mexported_models\u001b[39m\u001b[38;5;124m'\u001b[39m, \u001b[38;5;124m'\u001b[39m\u001b[38;5;124msample_model\u001b[39m\u001b[38;5;124m'\u001b[39m, \u001b[38;5;124m'\u001b[39m\u001b[38;5;124mvalidation_results.csv\u001b[39m\u001b[38;5;124m'\u001b[39m))\n\u001b[0;32m      2\u001b[0m df[\u001b[38;5;124m'\u001b[39m\u001b[38;5;124mboxes\u001b[39m\u001b[38;5;124m'\u001b[39m] \u001b[38;5;241m=\u001b[39m [\u001b[38;5;241m*\u001b[39m\u001b[38;5;28mmap\u001b[39m(ast\u001b[38;5;241m.\u001b[39mliteral_eval, df[\u001b[38;5;124m'\u001b[39m\u001b[38;5;124mboxes\u001b[39m\u001b[38;5;124m'\u001b[39m]\u001b[38;5;241m.\u001b[39mtolist())]\n\u001b[0;32m      3\u001b[0m df[\u001b[38;5;124m'\u001b[39m\u001b[38;5;124moriginal_class\u001b[39m\u001b[38;5;124m'\u001b[39m] \u001b[38;5;241m=\u001b[39m [\u001b[38;5;241m*\u001b[39m\u001b[38;5;28mmap\u001b[39m(\u001b[38;5;28;01mlambda\u001b[39;00m z: z[:\u001b[38;5;241m-\u001b[39m\u001b[38;5;241m9\u001b[39m], df[\u001b[38;5;124m'\u001b[39m\u001b[38;5;124mimage\u001b[39m\u001b[38;5;124m'\u001b[39m]\u001b[38;5;241m.\u001b[39mtolist())]\n",
      "\u001b[1;31mNameError\u001b[0m: name 'pd' is not defined"
     ]
    }
   ],
   "source": [
    "df = pd.read_csv(os.path.join('workspace', 'exported_models', 'sample_model', 'validation_results.csv'))\n",
    "df['boxes'] = [*map(ast.literal_eval, df['boxes'].tolist())]\n",
    "df['original_class'] = [*map(lambda z: z[:-9], df['image'].tolist())]\n",
    "df['best_class'] = df['best_class'].astype(str)\n",
    "df.loc[df['best'].isna(), ['best_class']] = '-'\n",
    "df"
   ]
  },
  {
   "cell_type": "code",
   "execution_count": 5,
   "metadata": {},
   "outputs": [],
   "source": [
    "yt, yp = matrix_from_df(df)"
   ]
  },
  {
   "cell_type": "code",
   "execution_count": 6,
   "metadata": {},
   "outputs": [
    {
     "name": "stdout",
     "output_type": "stream",
     "text": [
      "              precision    recall  f1-score   support\n",
      "\n",
      "           0       0.00      0.00      0.00         5\n",
      "           1       0.00      0.00      0.00         5\n",
      "           2       0.00      0.00      0.00         5\n",
      "           3       0.00      0.00      0.00         5\n",
      "           4       0.00      0.00      0.00         5\n",
      "           5       0.00      0.00      0.00         5\n",
      "           6       0.00      0.00      0.00         5\n",
      "           7       0.00      0.00      0.00         5\n",
      "           8       0.00      0.00      0.00         5\n",
      "           9       0.00      0.00      0.00         5\n",
      "          10       0.00      0.00      0.00         5\n",
      "          11       0.00      0.00      0.00         5\n",
      "          12       0.00      0.00      0.00         5\n",
      "          13       0.00      0.00      0.00         5\n",
      "          14       0.00      0.00      0.00         5\n",
      "          15       0.00      0.00      0.00         5\n",
      "          16       0.00      0.00      0.00         5\n",
      "          17       0.04      0.80      0.08         5\n",
      "          18       0.00      0.00      0.00         5\n",
      "          19       0.00      0.00      0.00         5\n",
      "          20       0.00      0.00      0.00         5\n",
      "          21       0.00      0.00      0.00         5\n",
      "          22       0.00      0.00      0.00         5\n",
      "          23       0.00      0.00      0.00         5\n",
      "          24       0.00      0.00      0.00         5\n",
      "          25       0.00      0.00      0.00         5\n",
      "          26       0.00      0.00      0.00         5\n",
      "          27       0.00      0.00      0.00         5\n",
      "          28       0.00      0.00      0.00         5\n",
      "          29       0.00      0.00      0.00         5\n",
      "          30       0.00      0.00      0.00         5\n",
      "          31       0.00      0.00      0.00         5\n",
      "          32       0.00      0.00      0.00         5\n",
      "          33       0.00      0.00      0.00         5\n",
      "          34       0.00      0.00      0.00         5\n",
      "          35       0.00      0.00      0.00         5\n",
      "          36       0.00      0.00      0.00         5\n",
      "          37       0.00      0.00      0.00         5\n",
      "          38       0.00      0.00      0.00         5\n",
      "          39       0.00      0.00      0.00         5\n",
      "          40       0.00      0.00      0.00         5\n",
      "          41       0.00      0.00      0.00         5\n",
      "          42       0.00      0.00      0.00         5\n",
      "          43       0.00      0.00      0.00         5\n",
      "          44       0.00      0.00      0.00         5\n",
      "          45       0.00      0.00      0.00         5\n",
      "          46       0.00      0.00      0.00         5\n",
      "          47       0.00      0.00      0.00         5\n",
      "          48       0.00      0.00      0.00         5\n",
      "          49       0.00      0.00      0.00         5\n",
      "          51       0.00      0.00      0.00         0\n",
      "\n",
      "    accuracy                           0.02       250\n",
      "   macro avg       0.00      0.02      0.00       250\n",
      "weighted avg       0.00      0.02      0.00       250\n",
      "\n"
     ]
    }
   ],
   "source": [
    "print(classification_report(yt, yp, zero_division=0))"
   ]
  },
  {
   "cell_type": "code",
   "execution_count": 6,
   "metadata": {},
   "outputs": [
    {
     "data": {
      "text/html": [
       "<div>\n",
       "<style scoped>\n",
       "    .dataframe tbody tr th:only-of-type {\n",
       "        vertical-align: middle;\n",
       "    }\n",
       "\n",
       "    .dataframe tbody tr th {\n",
       "        vertical-align: top;\n",
       "    }\n",
       "\n",
       "    .dataframe thead th {\n",
       "        text-align: right;\n",
       "    }\n",
       "</style>\n",
       "<table border=\"1\" class=\"dataframe\">\n",
       "  <thead>\n",
       "    <tr style=\"text-align: right;\">\n",
       "      <th></th>\n",
       "      <th>precision weighted</th>\n",
       "      <th>precision macro</th>\n",
       "      <th>recall weighted</th>\n",
       "      <th>recall macro</th>\n",
       "      <th>avg iou</th>\n",
       "    </tr>\n",
       "  </thead>\n",
       "  <tbody>\n",
       "    <tr>\n",
       "      <th>sample_model</th>\n",
       "      <td>0.985333</td>\n",
       "      <td>0.985333</td>\n",
       "      <td>0.984</td>\n",
       "      <td>0.984</td>\n",
       "      <td>0.96118</td>\n",
       "    </tr>\n",
       "  </tbody>\n",
       "</table>\n",
       "</div>"
      ],
      "text/plain": [
       "              precision weighted  precision macro  recall weighted  \\\n",
       "sample_model            0.985333         0.985333            0.984   \n",
       "\n",
       "              recall macro  avg iou  \n",
       "sample_model         0.984  0.96118  "
      ]
     },
     "execution_count": 6,
     "metadata": {},
     "output_type": "execute_result"
    }
   ],
   "source": [
    "val_report(\"sample_model\")"
   ]
  },
  {
   "cell_type": "code",
   "execution_count": 6,
   "metadata": {},
   "outputs": [],
   "source": [
    "report = class_report(yt,yp)"
   ]
  },
  {
   "cell_type": "code",
   "execution_count": 7,
   "metadata": {},
   "outputs": [],
   "source": [
    "pr = precision(report)\n",
    "rc = recall(report)"
   ]
  },
  {
   "cell_type": "code",
   "execution_count": 45,
   "metadata": {},
   "outputs": [
    {
     "data": {
      "text/html": [
       "<div>\n",
       "<style scoped>\n",
       "    .dataframe tbody tr th:only-of-type {\n",
       "        vertical-align: middle;\n",
       "    }\n",
       "\n",
       "    .dataframe tbody tr th {\n",
       "        vertical-align: top;\n",
       "    }\n",
       "\n",
       "    .dataframe thead th {\n",
       "        text-align: right;\n",
       "    }\n",
       "</style>\n",
       "<table border=\"1\" class=\"dataframe\">\n",
       "  <thead>\n",
       "    <tr style=\"text-align: right;\">\n",
       "      <th></th>\n",
       "      <th>precision weighted</th>\n",
       "      <th>precision macro</th>\n",
       "      <th>recall weighted</th>\n",
       "      <th>recall macro</th>\n",
       "    </tr>\n",
       "  </thead>\n",
       "  <tbody>\n",
       "    <tr>\n",
       "      <th>ssd_resnet50_v1_fpn_640x640_coco17_tpu-8</th>\n",
       "      <td>0.000808</td>\n",
       "      <td>0.000792</td>\n",
       "      <td>0.016</td>\n",
       "      <td>0.015686</td>\n",
       "    </tr>\n",
       "  </tbody>\n",
       "</table>\n",
       "</div>"
      ],
      "text/plain": [
       "                                          precision weighted  precision macro  \\\n",
       "ssd_resnet50_v1_fpn_640x640_coco17_tpu-8            0.000808         0.000792   \n",
       "\n",
       "                                          recall weighted  recall macro  \n",
       "ssd_resnet50_v1_fpn_640x640_coco17_tpu-8            0.016      0.015686  "
      ]
     },
     "execution_count": 45,
     "metadata": {},
     "output_type": "execute_result"
    }
   ],
   "source": [
    "pd.DataFrame([generate_report(pr, rc)], index=['sample_model'])"
   ]
  },
  {
   "cell_type": "code",
   "execution_count": 61,
   "metadata": {},
   "outputs": [],
   "source": [
    "models = [*filter(lambda z: os.path.exists(os.path.join(\"workspace\", \"exported_models\", z, \"validation_results.csv\")) and os.path.exists(os.path.join(\"workspace\", \"exported_models\", z, \"iou_results.csv\")), os.listdir(os.path.join(\"workspace\", \"exported_models\")))]"
   ]
  },
  {
   "cell_type": "code",
   "execution_count": 62,
   "metadata": {},
   "outputs": [],
   "source": [
    "final_df = pd.concat([*map(val_report, models)])"
   ]
  },
  {
   "cell_type": "code",
   "execution_count": 63,
   "metadata": {},
   "outputs": [
    {
     "data": {
      "text/html": [
       "<div>\n",
       "<style scoped>\n",
       "    .dataframe tbody tr th:only-of-type {\n",
       "        vertical-align: middle;\n",
       "    }\n",
       "\n",
       "    .dataframe tbody tr th {\n",
       "        vertical-align: top;\n",
       "    }\n",
       "\n",
       "    .dataframe thead th {\n",
       "        text-align: right;\n",
       "    }\n",
       "</style>\n",
       "<table border=\"1\" class=\"dataframe\">\n",
       "  <thead>\n",
       "    <tr style=\"text-align: right;\">\n",
       "      <th></th>\n",
       "      <th>precision weighted</th>\n",
       "      <th>precision macro</th>\n",
       "      <th>recall weighted</th>\n",
       "      <th>recall macro</th>\n",
       "      <th>avg iou</th>\n",
       "    </tr>\n",
       "  </thead>\n",
       "  <tbody>\n",
       "    <tr>\n",
       "      <th>efficientdet_d0_coco17_tpu-32</th>\n",
       "      <td>0.080211</td>\n",
       "      <td>0.080211</td>\n",
       "      <td>0.096</td>\n",
       "      <td>0.096000</td>\n",
       "      <td>0.466367</td>\n",
       "    </tr>\n",
       "    <tr>\n",
       "      <th>faster_rcnn_resnet152_v1_640x640_coco17_tpu-8</th>\n",
       "      <td>0.001281</td>\n",
       "      <td>0.001256</td>\n",
       "      <td>0.028</td>\n",
       "      <td>0.027451</td>\n",
       "      <td>0.672157</td>\n",
       "    </tr>\n",
       "    <tr>\n",
       "      <th>faster_rcnn_resnet50_v1_640x640_coco17_tpu-8</th>\n",
       "      <td>0.005381</td>\n",
       "      <td>0.005275</td>\n",
       "      <td>0.044</td>\n",
       "      <td>0.043137</td>\n",
       "      <td>0.869612</td>\n",
       "    </tr>\n",
       "    <tr>\n",
       "      <th>ssd_resnet101_v1_fpn_640x640_coco17_tpu-8</th>\n",
       "      <td>0.001212</td>\n",
       "      <td>0.001188</td>\n",
       "      <td>0.016</td>\n",
       "      <td>0.015686</td>\n",
       "      <td>0.864990</td>\n",
       "    </tr>\n",
       "    <tr>\n",
       "      <th>ssd_resnet152_v1_fpn_640x640_coco17_tpu-8</th>\n",
       "      <td>0.016252</td>\n",
       "      <td>0.015933</td>\n",
       "      <td>0.052</td>\n",
       "      <td>0.050980</td>\n",
       "      <td>0.772909</td>\n",
       "    </tr>\n",
       "    <tr>\n",
       "      <th>ssd_resnet50_v1_fpn_640x640_coco17_tpu-8</th>\n",
       "      <td>0.000808</td>\n",
       "      <td>0.000792</td>\n",
       "      <td>0.016</td>\n",
       "      <td>0.015686</td>\n",
       "      <td>0.170810</td>\n",
       "    </tr>\n",
       "    <tr>\n",
       "      <th>yolov8m_lego_416_bsize_16</th>\n",
       "      <td>0.996667</td>\n",
       "      <td>0.996667</td>\n",
       "      <td>0.996</td>\n",
       "      <td>0.996000</td>\n",
       "      <td>0.962096</td>\n",
       "    </tr>\n",
       "    <tr>\n",
       "      <th>yolov8n_lego_416_bsize_1</th>\n",
       "      <td>0.431012</td>\n",
       "      <td>0.422561</td>\n",
       "      <td>0.424</td>\n",
       "      <td>0.415686</td>\n",
       "      <td>0.849174</td>\n",
       "    </tr>\n",
       "    <tr>\n",
       "      <th>yolov8n_lego_416_bsize_16</th>\n",
       "      <td>0.978667</td>\n",
       "      <td>0.978667</td>\n",
       "      <td>0.976</td>\n",
       "      <td>0.976000</td>\n",
       "      <td>0.961230</td>\n",
       "    </tr>\n",
       "    <tr>\n",
       "      <th>yolov8n_lego_416_bsize_32</th>\n",
       "      <td>0.985333</td>\n",
       "      <td>0.985333</td>\n",
       "      <td>0.984</td>\n",
       "      <td>0.984000</td>\n",
       "      <td>0.961180</td>\n",
       "    </tr>\n",
       "  </tbody>\n",
       "</table>\n",
       "</div>"
      ],
      "text/plain": [
       "                                               precision weighted  \\\n",
       "efficientdet_d0_coco17_tpu-32                            0.080211   \n",
       "faster_rcnn_resnet152_v1_640x640_coco17_tpu-8            0.001281   \n",
       "faster_rcnn_resnet50_v1_640x640_coco17_tpu-8             0.005381   \n",
       "ssd_resnet101_v1_fpn_640x640_coco17_tpu-8                0.001212   \n",
       "ssd_resnet152_v1_fpn_640x640_coco17_tpu-8                0.016252   \n",
       "ssd_resnet50_v1_fpn_640x640_coco17_tpu-8                 0.000808   \n",
       "yolov8m_lego_416_bsize_16                                0.996667   \n",
       "yolov8n_lego_416_bsize_1                                 0.431012   \n",
       "yolov8n_lego_416_bsize_16                                0.978667   \n",
       "yolov8n_lego_416_bsize_32                                0.985333   \n",
       "\n",
       "                                               precision macro  \\\n",
       "efficientdet_d0_coco17_tpu-32                         0.080211   \n",
       "faster_rcnn_resnet152_v1_640x640_coco17_tpu-8         0.001256   \n",
       "faster_rcnn_resnet50_v1_640x640_coco17_tpu-8          0.005275   \n",
       "ssd_resnet101_v1_fpn_640x640_coco17_tpu-8             0.001188   \n",
       "ssd_resnet152_v1_fpn_640x640_coco17_tpu-8             0.015933   \n",
       "ssd_resnet50_v1_fpn_640x640_coco17_tpu-8              0.000792   \n",
       "yolov8m_lego_416_bsize_16                             0.996667   \n",
       "yolov8n_lego_416_bsize_1                              0.422561   \n",
       "yolov8n_lego_416_bsize_16                             0.978667   \n",
       "yolov8n_lego_416_bsize_32                             0.985333   \n",
       "\n",
       "                                               recall weighted  recall macro  \\\n",
       "efficientdet_d0_coco17_tpu-32                            0.096      0.096000   \n",
       "faster_rcnn_resnet152_v1_640x640_coco17_tpu-8            0.028      0.027451   \n",
       "faster_rcnn_resnet50_v1_640x640_coco17_tpu-8             0.044      0.043137   \n",
       "ssd_resnet101_v1_fpn_640x640_coco17_tpu-8                0.016      0.015686   \n",
       "ssd_resnet152_v1_fpn_640x640_coco17_tpu-8                0.052      0.050980   \n",
       "ssd_resnet50_v1_fpn_640x640_coco17_tpu-8                 0.016      0.015686   \n",
       "yolov8m_lego_416_bsize_16                                0.996      0.996000   \n",
       "yolov8n_lego_416_bsize_1                                 0.424      0.415686   \n",
       "yolov8n_lego_416_bsize_16                                0.976      0.976000   \n",
       "yolov8n_lego_416_bsize_32                                0.984      0.984000   \n",
       "\n",
       "                                                avg iou  \n",
       "efficientdet_d0_coco17_tpu-32                  0.466367  \n",
       "faster_rcnn_resnet152_v1_640x640_coco17_tpu-8  0.672157  \n",
       "faster_rcnn_resnet50_v1_640x640_coco17_tpu-8   0.869612  \n",
       "ssd_resnet101_v1_fpn_640x640_coco17_tpu-8      0.864990  \n",
       "ssd_resnet152_v1_fpn_640x640_coco17_tpu-8      0.772909  \n",
       "ssd_resnet50_v1_fpn_640x640_coco17_tpu-8       0.170810  \n",
       "yolov8m_lego_416_bsize_16                      0.962096  \n",
       "yolov8n_lego_416_bsize_1                       0.849174  \n",
       "yolov8n_lego_416_bsize_16                      0.961230  \n",
       "yolov8n_lego_416_bsize_32                      0.961180  "
      ]
     },
     "execution_count": 63,
     "metadata": {},
     "output_type": "execute_result"
    }
   ],
   "source": [
    "final_df"
   ]
  },
  {
   "cell_type": "code",
   "execution_count": 79,
   "metadata": {},
   "outputs": [
    {
     "data": {
      "image/png": "[encoded data removed]",
      "text/plain": [
       "<Figure size 640x480 with 1 Axes>"
      ]
     },
     "metadata": {},
     "output_type": "display_data"
    }
   ],
   "source": [
    "plt.scatter(final_df.index, final_df['precision macro'], label=\"Średnia precyzja\", color='r')\n",
    "plt.scatter(final_df.index, final_df['recall macro'], label=\"Średnia czułość\", color='g')\n",
    "plt.scatter(final_df.index, final_df['avg iou'], label=\"Średnie IoU\", color='b')\n",
    "plt.xticks(rotation=90)\n",
    "plt.grid(axis='y')\n",
    "plt.legend()\n",
    "plt.show()"
   ]
  }
 ],
 "metadata": {
  "kernelspec": {
   "display_name": "magisterka",
   "language": "python",
   "name": "python3"
  },
  "language_info": {
   "codemirror_mode": {
    "name": "ipython",
    "version": 3
   },
   "file_extension": ".py",
   "mimetype": "text/x-python",
   "name": "python",
   "nbconvert_exporter": "python",
   "pygments_lexer": "ipython3",
   "version": "3.10.13"
  }
 },
 "nbformat": 4,
 "nbformat_minor": 2
}
