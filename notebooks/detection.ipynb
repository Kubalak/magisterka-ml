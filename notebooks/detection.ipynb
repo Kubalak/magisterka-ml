{
 "cells": [
  {
   "cell_type": "code",
   "execution_count": 24,
   "metadata": {},
   "outputs": [],
   "source": [
    "import numpy as np\n",
    "import cv2\n",
    "from PIL import Image\n",
    "import matplotlib.pyplot as plt\n",
    "import matplotlib\n",
    "import tensorflow as tf\n",
    "from object_detection.utils import label_map_util\n",
    "from object_detection.utils import visualization_utils as viz_utils\n",
    "\n",
    "matplotlib.use(\"TkAgg\")\n",
    "\n",
    "MODEL_PATH = 'workspace/exported_models/ssd_resnet101_v1_fpn_640x640_coco17_tpu-8/saved_model'\n",
    "LABELS_PATH = 'workspace/data-jpg/label_map.pbtxt'\n",
    "IMAGE_PATH = 'bricks-jpg/6632 lever 3M/6632 lever 3M 004R.jpg'"
   ]
  },
  {
   "cell_type": "code",
   "execution_count": null,
   "metadata": {},
   "outputs": [],
   "source": [
    "%cd .."
   ]
  },
  {
   "cell_type": "code",
   "execution_count": 2,
   "metadata": {},
   "outputs": [],
   "source": [
    "config = tf.compat.v1.ConfigProto()\n",
    "config.gpu_options.allow_growth = True\n",
    "session = tf.compat.v1.Session(config=config)\n",
    "model_fn = tf.saved_model.load(MODEL_PATH)\n",
    "category_index = label_map_util.create_category_index_from_labelmap(LABELS_PATH,use_display_name=True)"
   ]
  },
  {
   "cell_type": "code",
   "execution_count": 3,
   "metadata": {},
   "outputs": [],
   "source": [
    "def load_image_into_numpy_array(path):\n",
    "    \"\"\"Load an image from file into a numpy array.\n",
    "\n",
    "    Puts image into numpy array to feed into tensorflow graph.\n",
    "    Note that by convention we put it into a numpy array with shape\n",
    "    (height, width, channels), where channels=3 for RGB.\n",
    "\n",
    "    Args:\n",
    "      path: the file path to the image\n",
    "\n",
    "    Returns:\n",
    "      uint8 numpy array with shape (img_height, img_width, 3)\n",
    "    \"\"\"\n",
    "    return np.array(Image.open(path).convert('RGB'))"
   ]
  },
  {
   "cell_type": "code",
   "execution_count": 27,
   "metadata": {},
   "outputs": [],
   "source": [
    "image = load_image_into_numpy_array(IMAGE_PATH)\n",
    "# print(image.shape)\n",
    "input_tensor = tf.convert_to_tensor(image)\n",
    "input_tensor = input_tensor[tf.newaxis, ...]\n",
    "detections = model_fn(input_tensor)\n",
    "num_detections = int(detections.pop('num_detections'))\n",
    "\n",
    "detections = {\n",
    "    key: value[0, :num_detections].numpy() for key, value in detections.items()\n",
    "}\n",
    "detections['num_detections'] = num_detections\n",
    "detections['detection_classes'] = detections['detection_classes'].astype(np.int64)\n",
    "image_np_with_detections = image.copy()\n",
    "viz_utils.visualize_boxes_and_labels_on_image_array(\n",
    "        image_np_with_detections,\n",
    "        detections['detection_boxes'],\n",
    "        detections['detection_classes'],\n",
    "        detections['detection_scores'],\n",
    "        category_index,\n",
    "        use_normalized_coordinates=True,\n",
    "        max_boxes_to_draw=200,\n",
    "        min_score_thresh=0.26,\n",
    "        agnostic_mode=False)\n",
    "\n",
    "plt.figure()\n",
    "plt.imshow(image_np_with_detections)\n",
    "plt.show()"
   ]
  },
  {
   "cell_type": "code",
   "execution_count": 26,
   "metadata": {},
   "outputs": [
    {
     "name": "stdout",
     "output_type": "stream",
     "text": [
      "['6632 lever 3M']\n",
      "[[145, 172, 495, 461, '6632 lever 3M', 0.2697998285293579]]\n"
     ]
    }
   ],
   "source": [
    "# set your own threshold here\n",
    "Threshold = 0.26\n",
    "width=640\n",
    "height=640\n",
    "\n",
    "def ExtractBBoxes(bboxes, bclasses, bscores, im_width, im_height):\n",
    "    bbox = []\n",
    "    class_labels = []\n",
    "    for idx in range(len(bboxes)):\n",
    "        if bscores[idx] >= Threshold:\n",
    "          y_min = int(bboxes[idx][0] * im_height)\n",
    "          x_min = int(bboxes[idx][1] * im_width)\n",
    "          y_max = int(bboxes[idx][2] * im_height)\n",
    "          x_max = int(bboxes[idx][3] * im_width)\n",
    "          class_label = category_index[int(bclasses[idx])]['name']\n",
    "          class_labels.append(class_label)\n",
    "          bbox.append([x_min, y_min, x_max, y_max, class_label, float(bscores[idx])])\n",
    "    return (bbox, class_labels)\n",
    "\n",
    "# @Matheus Correia's code but modified\n",
    "\n",
    "# Pre-processing image.\n",
    "image = tf.image.decode_image(open(IMAGE_PATH, 'rb').read(), channels=3)\n",
    "image = tf.image.resize(image, (width,height))\n",
    "im_height, im_width, _ = image.shape\n",
    "# Model expects tf.uint8 tensor, but image is read as tf.float32.\n",
    "input_tensor = np.expand_dims(image, 0)\n",
    "detections = model_fn(input_tensor)\n",
    "\n",
    "bboxes = detections['detection_boxes'][0].numpy()\n",
    "bclasses = detections['detection_classes'][0].numpy().astype(np.int32)\n",
    "bscores = detections['detection_scores'][0].numpy()\n",
    "det_boxes, class_labels = ExtractBBoxes(bboxes, bclasses, bscores, im_width, im_height)\n",
    "print(class_labels)\n",
    "print(det_boxes)"
   ]
  }
 ],
 "metadata": {
  "kernelspec": {
   "display_name": "tf2_obj_api",
   "language": "python",
   "name": "python3"
  },
  "language_info": {
   "codemirror_mode": {
    "name": "ipython",
    "version": 3
   },
   "file_extension": ".py",
   "mimetype": "text/x-python",
   "name": "python",
   "nbconvert_exporter": "python",
   "pygments_lexer": "ipython3",
   "version": "3.10.3"
  }
 },
 "nbformat": 4,
 "nbformat_minor": 2
}
