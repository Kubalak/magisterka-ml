{
 "cells": [
  {
   "cell_type": "code",
   "execution_count": 1,
   "metadata": {},
   "outputs": [
    {
     "name": "stderr",
     "output_type": "stream",
     "text": [
      "2024-02-05 12:26:38.644346: I tensorflow/core/platform/cpu_feature_guard.cc:182] This TensorFlow binary is optimized to use available CPU instructions in performance-critical operations.\n",
      "To enable the following instructions: SSE4.1 SSE4.2, in other operations, rebuild TensorFlow with the appropriate compiler flags.\n"
     ]
    }
   ],
   "source": [
    "import cv2\n",
    "import numpy as np\n",
    "import json, os\n",
    "import tensorflow as tf\n",
    "import re\n",
    "import utils"
   ]
  },
  {
   "cell_type": "code",
   "execution_count": null,
   "metadata": {},
   "outputs": [],
   "source": [
    "%cd .."
   ]
  },
  {
   "cell_type": "code",
   "execution_count": 21,
   "metadata": {},
   "outputs": [],
   "source": [
    "def prepare(filename):\n",
    "    img = cv2.imread(filename,0)\n",
    "    height,width = img.shape\n",
    "    return [[img.item(j,i) != 0 for j in range(height)] for i in range(width)]\n",
    "\n",
    "def get_bounds(pixels):\n",
    "    width = len(pixels)\n",
    "    height = len(pixels[0])\n",
    "    annotations = {\n",
    "        \"xmin\": width,\n",
    "        \"xmax\": 0,\n",
    "        \"ymin\": height,\n",
    "        \"ymax\": 0\n",
    "    }\n",
    "    for i in range(width):\n",
    "        for j in range(height):\n",
    "            if pixels[i][j] and i < annotations[\"xmin\"]:\n",
    "                annotations[\"xmin\"] = i\n",
    "            elif pixels[i][j] and i > annotations[\"xmax\"]:\n",
    "                annotations[\"xmax\"] = i\n",
    "            if pixels[i][j] and j < annotations[\"ymin\"]:\n",
    "                annotations[\"ymin\"] = j\n",
    "            elif pixels[i][j] and j > annotations[\"ymax\"]:\n",
    "                annotations[\"ymax\"] = j\n",
    "    annotations[\"xmin\"] -= 1\n",
    "    annotations[\"xmax\"] += 1\n",
    "    annotations[\"ymin\"] -= 1\n",
    "    annotations[\"ymax\"] += 1\n",
    "    return annotations\n",
    "\n",
    "def annotate(filename:str, class_name, class_id):\n",
    "    pixels = prepare(filename)\n",
    "    width = len(pixels)\n",
    "    height = len(pixels[0])\n",
    "    info = get_bounds(pixels)\n",
    "    expr = re.compile(\"\\\\.[^\\\\.]*$\")\n",
    "    f_format = expr.search(filename).group(0)\n",
    "    with tf.io.gfile.GFile(filename, 'rb') as fid:\n",
    "        encoded_image = fid.read()\n",
    "    return tf.train.Example(features=tf.train.Features(feature={\n",
    "        'image/height': utils.int64_feature(height),\n",
    "        'image/width': utils.int64_feature(width),\n",
    "        'image/filename': utils.bytes_feature(filename.split('/')[-1].encode()),\n",
    "        'image/source_id': utils.bytes_feature(filename.encode()),\n",
    "        'image/encoded': utils.bytes_feature(encoded_image),\n",
    "        'image/format': utils.bytes_feature(f_format[1:].encode()),\n",
    "        'image/object/bbox/xmin': utils.float_list_feature([info[\"xmin\"] / width]),\n",
    "        'image/object/bbox/xmax': utils.float_list_feature([info[\"xmax\"] / width]),\n",
    "        'image/object/bbox/ymin': utils.float_list_feature([info[\"ymin\"] / height]),\n",
    "        'image/object/bbox/ymax': utils.float_list_feature([info[\"ymax\"] / height]),\n",
    "        'image/object/class/text': utils.bytes_list_feature([class_name.encode()]),\n",
    "        'image/object/class/label': utils.int64_list_feature([class_id]),\n",
    "    }))"
   ]
  },
  {
   "cell_type": "code",
   "execution_count": 22,
   "metadata": {},
   "outputs": [],
   "source": [
    "def annotate_dir(dirname):\n",
    "    expr = re.compile(\"^\\\\d+\")\n",
    "    class_id = int(expr.search(dirname).group(0))\n",
    "    class_name = dirname\n",
    "    files = os.listdir(os.path.join(\"bricks\", dirname))\n",
    "    files = filter(lambda z: z != \"annotations.json\", files)\n",
    "    records = [*map(lambda z: annotate(os.path.join(\"bricks\", dirname, z), class_name, class_id), files)]\n",
    "    for index, record in enumerate(records):\n",
    "        with tf.io.TFRecordWriter(os.path.join(\"workspace\", \"data\", f\"{class_name}-{index}.record\")) as writer:\n",
    "            writer.write(record.SerializeToString())\n",
    "    return {\n",
    "        \"id\": class_id,\n",
    "        \"name\": class_name\n",
    "    }"
   ]
  },
  {
   "cell_type": "code",
   "execution_count": 23,
   "metadata": {},
   "outputs": [
    {
     "ename": "TypeError",
     "evalue": "'2357' has type str, but expected one of: int",
     "output_type": "error",
     "traceback": [
      "\u001b[0;31m---------------------------------------------------------------------------\u001b[0m",
      "\u001b[0;31mTypeError\u001b[0m                                 Traceback (most recent call last)",
      "Input \u001b[0;32mIn [23]\u001b[0m, in \u001b[0;36m<cell line: 1>\u001b[0;34m()\u001b[0m\n\u001b[0;32m----> 1\u001b[0m \u001b[43mannotate_dir\u001b[49m\u001b[43m(\u001b[49m\u001b[38;5;124;43m'\u001b[39;49m\u001b[38;5;124;43m2357 brick corner 1x2x2\u001b[39;49m\u001b[38;5;124;43m'\u001b[39;49m\u001b[43m)\u001b[49m\n",
      "Input \u001b[0;32mIn [22]\u001b[0m, in \u001b[0;36mannotate_dir\u001b[0;34m(dirname)\u001b[0m\n\u001b[1;32m      5\u001b[0m files \u001b[38;5;241m=\u001b[39m os\u001b[38;5;241m.\u001b[39mlistdir(os\u001b[38;5;241m.\u001b[39mpath\u001b[38;5;241m.\u001b[39mjoin(\u001b[38;5;124m\"\u001b[39m\u001b[38;5;124mbricks\u001b[39m\u001b[38;5;124m\"\u001b[39m, dirname))\n\u001b[1;32m      6\u001b[0m files \u001b[38;5;241m=\u001b[39m \u001b[38;5;28mfilter\u001b[39m(\u001b[38;5;28;01mlambda\u001b[39;00m z: z \u001b[38;5;241m!=\u001b[39m \u001b[38;5;124m\"\u001b[39m\u001b[38;5;124mannotations.json\u001b[39m\u001b[38;5;124m\"\u001b[39m, files)\n\u001b[0;32m----> 7\u001b[0m records \u001b[38;5;241m=\u001b[39m [\u001b[38;5;241m*\u001b[39m\u001b[38;5;28mmap\u001b[39m(\u001b[38;5;28;01mlambda\u001b[39;00m z: annotate(os\u001b[38;5;241m.\u001b[39mpath\u001b[38;5;241m.\u001b[39mjoin(\u001b[38;5;124m\"\u001b[39m\u001b[38;5;124mbricks\u001b[39m\u001b[38;5;124m\"\u001b[39m, dirname, z), class_name, class_id), files)]\n\u001b[1;32m      8\u001b[0m \u001b[38;5;28;01mfor\u001b[39;00m index, record \u001b[38;5;129;01min\u001b[39;00m \u001b[38;5;28menumerate\u001b[39m(records):\n\u001b[1;32m      9\u001b[0m     \u001b[38;5;28;01mwith\u001b[39;00m tf\u001b[38;5;241m.\u001b[39mio\u001b[38;5;241m.\u001b[39mTFRecordWriter(os\u001b[38;5;241m.\u001b[39mpath\u001b[38;5;241m.\u001b[39mjoin(\u001b[38;5;124m\"\u001b[39m\u001b[38;5;124mworkspace\u001b[39m\u001b[38;5;124m\"\u001b[39m, \u001b[38;5;124m\"\u001b[39m\u001b[38;5;124mdata\u001b[39m\u001b[38;5;124m\"\u001b[39m, \u001b[38;5;124mf\u001b[39m\u001b[38;5;124m\"\u001b[39m\u001b[38;5;132;01m{\u001b[39;00mclass_name\u001b[38;5;132;01m}\u001b[39;00m\u001b[38;5;124m-\u001b[39m\u001b[38;5;132;01m{\u001b[39;00mindex\u001b[38;5;132;01m}\u001b[39;00m\u001b[38;5;124m.record\u001b[39m\u001b[38;5;124m\"\u001b[39m)) \u001b[38;5;28;01mas\u001b[39;00m writer:\n",
      "Input \u001b[0;32mIn [22]\u001b[0m, in \u001b[0;36mannotate_dir.<locals>.<lambda>\u001b[0;34m(z)\u001b[0m\n\u001b[1;32m      5\u001b[0m files \u001b[38;5;241m=\u001b[39m os\u001b[38;5;241m.\u001b[39mlistdir(os\u001b[38;5;241m.\u001b[39mpath\u001b[38;5;241m.\u001b[39mjoin(\u001b[38;5;124m\"\u001b[39m\u001b[38;5;124mbricks\u001b[39m\u001b[38;5;124m\"\u001b[39m, dirname))\n\u001b[1;32m      6\u001b[0m files \u001b[38;5;241m=\u001b[39m \u001b[38;5;28mfilter\u001b[39m(\u001b[38;5;28;01mlambda\u001b[39;00m z: z \u001b[38;5;241m!=\u001b[39m \u001b[38;5;124m\"\u001b[39m\u001b[38;5;124mannotations.json\u001b[39m\u001b[38;5;124m\"\u001b[39m, files)\n\u001b[0;32m----> 7\u001b[0m records \u001b[38;5;241m=\u001b[39m [\u001b[38;5;241m*\u001b[39m\u001b[38;5;28mmap\u001b[39m(\u001b[38;5;28;01mlambda\u001b[39;00m z: \u001b[43mannotate\u001b[49m\u001b[43m(\u001b[49m\u001b[43mos\u001b[49m\u001b[38;5;241;43m.\u001b[39;49m\u001b[43mpath\u001b[49m\u001b[38;5;241;43m.\u001b[39;49m\u001b[43mjoin\u001b[49m\u001b[43m(\u001b[49m\u001b[38;5;124;43m\"\u001b[39;49m\u001b[38;5;124;43mbricks\u001b[39;49m\u001b[38;5;124;43m\"\u001b[39;49m\u001b[43m,\u001b[49m\u001b[43m \u001b[49m\u001b[43mdirname\u001b[49m\u001b[43m,\u001b[49m\u001b[43m \u001b[49m\u001b[43mz\u001b[49m\u001b[43m)\u001b[49m\u001b[43m,\u001b[49m\u001b[43m \u001b[49m\u001b[43mclass_name\u001b[49m\u001b[43m,\u001b[49m\u001b[43m \u001b[49m\u001b[43mclass_id\u001b[49m\u001b[43m)\u001b[49m, files)]\n\u001b[1;32m      8\u001b[0m \u001b[38;5;28;01mfor\u001b[39;00m index, record \u001b[38;5;129;01min\u001b[39;00m \u001b[38;5;28menumerate\u001b[39m(records):\n\u001b[1;32m      9\u001b[0m     \u001b[38;5;28;01mwith\u001b[39;00m tf\u001b[38;5;241m.\u001b[39mio\u001b[38;5;241m.\u001b[39mTFRecordWriter(os\u001b[38;5;241m.\u001b[39mpath\u001b[38;5;241m.\u001b[39mjoin(\u001b[38;5;124m\"\u001b[39m\u001b[38;5;124mworkspace\u001b[39m\u001b[38;5;124m\"\u001b[39m, \u001b[38;5;124m\"\u001b[39m\u001b[38;5;124mdata\u001b[39m\u001b[38;5;124m\"\u001b[39m, \u001b[38;5;124mf\u001b[39m\u001b[38;5;124m\"\u001b[39m\u001b[38;5;132;01m{\u001b[39;00mclass_name\u001b[38;5;132;01m}\u001b[39;00m\u001b[38;5;124m-\u001b[39m\u001b[38;5;132;01m{\u001b[39;00mindex\u001b[38;5;132;01m}\u001b[39;00m\u001b[38;5;124m.record\u001b[39m\u001b[38;5;124m\"\u001b[39m)) \u001b[38;5;28;01mas\u001b[39;00m writer:\n",
      "Input \u001b[0;32mIn [21]\u001b[0m, in \u001b[0;36mannotate\u001b[0;34m(filename, class_name, class_id)\u001b[0m\n\u001b[1;32m     38\u001b[0m \u001b[38;5;28;01mwith\u001b[39;00m tf\u001b[38;5;241m.\u001b[39mio\u001b[38;5;241m.\u001b[39mgfile\u001b[38;5;241m.\u001b[39mGFile(filename, \u001b[38;5;124m'\u001b[39m\u001b[38;5;124mrb\u001b[39m\u001b[38;5;124m'\u001b[39m) \u001b[38;5;28;01mas\u001b[39;00m fid:\n\u001b[1;32m     39\u001b[0m     encoded_image \u001b[38;5;241m=\u001b[39m fid\u001b[38;5;241m.\u001b[39mread()\n\u001b[1;32m     40\u001b[0m \u001b[38;5;28;01mreturn\u001b[39;00m tf\u001b[38;5;241m.\u001b[39mtrain\u001b[38;5;241m.\u001b[39mExample(features\u001b[38;5;241m=\u001b[39mtf\u001b[38;5;241m.\u001b[39mtrain\u001b[38;5;241m.\u001b[39mFeatures(feature\u001b[38;5;241m=\u001b[39m{\n\u001b[1;32m     41\u001b[0m     \u001b[38;5;124m'\u001b[39m\u001b[38;5;124mimage/height\u001b[39m\u001b[38;5;124m'\u001b[39m: utils\u001b[38;5;241m.\u001b[39mint64_feature(height),\n\u001b[1;32m     42\u001b[0m     \u001b[38;5;124m'\u001b[39m\u001b[38;5;124mimage/width\u001b[39m\u001b[38;5;124m'\u001b[39m: utils\u001b[38;5;241m.\u001b[39mint64_feature(width),\n\u001b[1;32m     43\u001b[0m     \u001b[38;5;124m'\u001b[39m\u001b[38;5;124mimage/filename\u001b[39m\u001b[38;5;124m'\u001b[39m: utils\u001b[38;5;241m.\u001b[39mbytes_feature(filename\u001b[38;5;241m.\u001b[39msplit(\u001b[38;5;124m'\u001b[39m\u001b[38;5;124m/\u001b[39m\u001b[38;5;124m'\u001b[39m)[\u001b[38;5;241m-\u001b[39m\u001b[38;5;241m1\u001b[39m]\u001b[38;5;241m.\u001b[39mencode()),\n\u001b[1;32m     44\u001b[0m     \u001b[38;5;124m'\u001b[39m\u001b[38;5;124mimage/source_id\u001b[39m\u001b[38;5;124m'\u001b[39m: utils\u001b[38;5;241m.\u001b[39mbytes_feature(filename\u001b[38;5;241m.\u001b[39mencode()),\n\u001b[1;32m     45\u001b[0m     \u001b[38;5;124m'\u001b[39m\u001b[38;5;124mimage/encoded\u001b[39m\u001b[38;5;124m'\u001b[39m: utils\u001b[38;5;241m.\u001b[39mbytes_feature(encoded_image),\n\u001b[1;32m     46\u001b[0m     \u001b[38;5;124m'\u001b[39m\u001b[38;5;124mimage/format\u001b[39m\u001b[38;5;124m'\u001b[39m: utils\u001b[38;5;241m.\u001b[39mbytes_feature(f_format[\u001b[38;5;241m1\u001b[39m:]\u001b[38;5;241m.\u001b[39mencode()),\n\u001b[1;32m     47\u001b[0m     \u001b[38;5;124m'\u001b[39m\u001b[38;5;124mimage/object/bbox/xmin\u001b[39m\u001b[38;5;124m'\u001b[39m: utils\u001b[38;5;241m.\u001b[39mfloat_list_feature([info[\u001b[38;5;124m\"\u001b[39m\u001b[38;5;124mxmin\u001b[39m\u001b[38;5;124m\"\u001b[39m] \u001b[38;5;241m/\u001b[39m width]),\n\u001b[1;32m     48\u001b[0m     \u001b[38;5;124m'\u001b[39m\u001b[38;5;124mimage/object/bbox/xmax\u001b[39m\u001b[38;5;124m'\u001b[39m: utils\u001b[38;5;241m.\u001b[39mfloat_list_feature([info[\u001b[38;5;124m\"\u001b[39m\u001b[38;5;124mxmax\u001b[39m\u001b[38;5;124m\"\u001b[39m] \u001b[38;5;241m/\u001b[39m width]),\n\u001b[1;32m     49\u001b[0m     \u001b[38;5;124m'\u001b[39m\u001b[38;5;124mimage/object/bbox/ymin\u001b[39m\u001b[38;5;124m'\u001b[39m: utils\u001b[38;5;241m.\u001b[39mfloat_list_feature([info[\u001b[38;5;124m\"\u001b[39m\u001b[38;5;124mymin\u001b[39m\u001b[38;5;124m\"\u001b[39m] \u001b[38;5;241m/\u001b[39m height]),\n\u001b[1;32m     50\u001b[0m     \u001b[38;5;124m'\u001b[39m\u001b[38;5;124mimage/object/bbox/ymax\u001b[39m\u001b[38;5;124m'\u001b[39m: utils\u001b[38;5;241m.\u001b[39mfloat_list_feature([info[\u001b[38;5;124m\"\u001b[39m\u001b[38;5;124mymax\u001b[39m\u001b[38;5;124m\"\u001b[39m] \u001b[38;5;241m/\u001b[39m height]),\n\u001b[1;32m     51\u001b[0m     \u001b[38;5;124m'\u001b[39m\u001b[38;5;124mimage/object/class/text\u001b[39m\u001b[38;5;124m'\u001b[39m: utils\u001b[38;5;241m.\u001b[39mbytes_list_feature([class_name\u001b[38;5;241m.\u001b[39mencode()]),\n\u001b[0;32m---> 52\u001b[0m     \u001b[38;5;124m'\u001b[39m\u001b[38;5;124mimage/object/class/label\u001b[39m\u001b[38;5;124m'\u001b[39m: \u001b[43mutils\u001b[49m\u001b[38;5;241;43m.\u001b[39;49m\u001b[43mint64_list_feature\u001b[49m\u001b[43m(\u001b[49m\u001b[43m[\u001b[49m\u001b[43mclass_id\u001b[49m\u001b[43m]\u001b[49m\u001b[43m)\u001b[49m,\n\u001b[1;32m     53\u001b[0m }))\n",
      "File \u001b[0;32m~/Publiczny/magisterka/utils.py:9\u001b[0m, in \u001b[0;36mint64_list_feature\u001b[0;34m(value)\u001b[0m\n\u001b[1;32m      8\u001b[0m \u001b[38;5;28;01mdef\u001b[39;00m \u001b[38;5;21mint64_list_feature\u001b[39m(value):\n\u001b[0;32m----> 9\u001b[0m   \u001b[38;5;28;01mreturn\u001b[39;00m tf\u001b[38;5;241m.\u001b[39mtrain\u001b[38;5;241m.\u001b[39mFeature(int64_list\u001b[38;5;241m=\u001b[39m\u001b[43mtf\u001b[49m\u001b[38;5;241;43m.\u001b[39;49m\u001b[43mtrain\u001b[49m\u001b[38;5;241;43m.\u001b[39;49m\u001b[43mInt64List\u001b[49m\u001b[43m(\u001b[49m\u001b[43mvalue\u001b[49m\u001b[38;5;241;43m=\u001b[39;49m\u001b[43mvalue\u001b[49m\u001b[43m)\u001b[49m)\n",
      "\u001b[0;31mTypeError\u001b[0m: '2357' has type str, but expected one of: int"
     ]
    }
   ],
   "source": [
    "annotate_dir('2357 brick corner 1x2x2')"
   ]
  },
  {
   "cell_type": "code",
   "execution_count": 12,
   "metadata": {},
   "outputs": [],
   "source": [
    "record = annotate('bricks/2357 brick corner 1x2x2/2357 brick corner 1x2x2 000L.png', '2357 brick corner', 2357)"
   ]
  },
  {
   "cell_type": "code",
   "execution_count": 14,
   "metadata": {},
   "outputs": [],
   "source": [
    "writer = tf.io.TFRecordWriter(\"test.record\")\n",
    "writer.write(record.SerializeToString())\n",
    "writer.close()"
   ]
  },
  {
   "cell_type": "code",
   "execution_count": 39,
   "metadata": {},
   "outputs": [],
   "source": [
    "img = cv2.imread('bricks/2357 brick corner 1x2x2/2357.png', 0)"
   ]
  },
  {
   "cell_type": "code",
   "execution_count": 40,
   "metadata": {},
   "outputs": [
    {
     "data": {
      "text/plain": [
       "(350, 400)"
      ]
     },
     "execution_count": 40,
     "metadata": {},
     "output_type": "execute_result"
    }
   ],
   "source": [
    "img.shape"
   ]
  },
  {
   "cell_type": "code",
   "execution_count": 9,
   "metadata": {},
   "outputs": [
    {
     "name": "stdout",
     "output_type": "stream",
     "text": [
      "134\n"
     ]
    }
   ],
   "source": [
    "print(img[200,200])"
   ]
  },
  {
   "cell_type": "code",
   "execution_count": 43,
   "metadata": {},
   "outputs": [],
   "source": [
    "height,width = img.shape\n",
    "color = [[img.item(j,i) != 0 for j in range(height)] for i in range(width)]"
   ]
  },
  {
   "cell_type": "code",
   "execution_count": 22,
   "metadata": {},
   "outputs": [],
   "source": [
    "annotations = {\n",
    "    \"xmin\": width,\n",
    "    \"xmax\": 0,\n",
    "    \"ymin\": height,\n",
    "    \"ymax\": 0\n",
    "}"
   ]
  },
  {
   "cell_type": "code",
   "execution_count": 48,
   "metadata": {},
   "outputs": [
    {
     "data": {
      "text/plain": [
       "False"
      ]
     },
     "execution_count": 48,
     "metadata": {},
     "output_type": "execute_result"
    }
   ],
   "source": [
    "color[350][0]"
   ]
  },
  {
   "cell_type": "code",
   "execution_count": 56,
   "metadata": {},
   "outputs": [],
   "source": [
    "def prepare(filename):\n",
    "    img = cv2.imread(filename,0)\n",
    "    height,width = img.shape\n",
    "    return [[img.item(j,i) != 0 for j in range(height)] for i in range(width)]"
   ]
  },
  {
   "cell_type": "code",
   "execution_count": 72,
   "metadata": {},
   "outputs": [],
   "source": [
    "# @jit(forceobj=True, looplift=True)\n",
    "def get_bounds(pixels):\n",
    "    width = len(pixels)\n",
    "    height = len(pixels[0])\n",
    "    annotations = {\n",
    "        \"xmin\": width,\n",
    "        \"xmax\": 0,\n",
    "        \"ymin\": height,\n",
    "        \"ymax\": 0\n",
    "    }\n",
    "    for i in range(width):\n",
    "        for j in range(height):\n",
    "            if pixels[i][j] and i < annotations[\"xmin\"]:\n",
    "                annotations[\"xmin\"] = i\n",
    "            elif pixels[i][j] and i > annotations[\"xmax\"]:\n",
    "                annotations[\"xmax\"] = i\n",
    "            if pixels[i][j] and j < annotations[\"ymin\"]:\n",
    "                annotations[\"ymin\"] = j\n",
    "            elif pixels[i][j] and j > annotations[\"ymax\"]:\n",
    "                annotations[\"ymax\"] = j\n",
    "    annotations[\"xmin\"] -= 1\n",
    "    annotations[\"xmax\"] += 1\n",
    "    annotations[\"ymin\"] -= 1\n",
    "    annotations[\"ymax\"] += 1\n",
    "    return annotations"
   ]
  },
  {
   "cell_type": "code",
   "execution_count": 69,
   "metadata": {},
   "outputs": [
    {
     "data": {
      "text/plain": [
       "{'xmin': 74, 'xmax': 322, 'ymin': 86, 'ymax': 312}"
      ]
     },
     "execution_count": 69,
     "metadata": {},
     "output_type": "execute_result"
    }
   ],
   "source": [
    "get_bounds(color)"
   ]
  },
  {
   "cell_type": "code",
   "execution_count": 24,
   "metadata": {},
   "outputs": [
    {
     "data": {
      "text/plain": [
       "{'xmin': 75, 'xmax': 321, 'ymin': 112, 'ymax': 336}"
      ]
     },
     "execution_count": 24,
     "metadata": {},
     "output_type": "execute_result"
    }
   ],
   "source": [
    "annotations"
   ]
  },
  {
   "cell_type": "code",
   "execution_count": 55,
   "metadata": {},
   "outputs": [
    {
     "name": "stdout",
     "output_type": "stream",
     "text": [
      "28.9 ms ± 89.3 µs per loop (mean ± std. dev. of 7 runs, 10 loops each)\n"
     ]
    }
   ],
   "source": [
    "%timeit get_bounds(color)"
   ]
  },
  {
   "cell_type": "code",
   "execution_count": 71,
   "metadata": {},
   "outputs": [
    {
     "name": "stdout",
     "output_type": "stream",
     "text": [
      "21.3 ms ± 118 µs per loop (mean ± std. dev. of 7 runs, 10 loops each)\n"
     ]
    }
   ],
   "source": [
    "%timeit prepare('bricks/3003 brick 2x2/3003 brick 2x2 000L.png')"
   ]
  },
  {
   "cell_type": "code",
   "execution_count": 63,
   "metadata": {},
   "outputs": [
    {
     "data": {
      "text/plain": [
       "400"
      ]
     },
     "execution_count": 63,
     "metadata": {},
     "output_type": "execute_result"
    }
   ],
   "source": [
    "len(pixels[0])"
   ]
  },
  {
   "cell_type": "code",
   "execution_count": 73,
   "metadata": {},
   "outputs": [
    {
     "name": "stdout",
     "output_type": "stream",
     "text": [
      "28.7 ms ± 170 µs per loop (mean ± std. dev. of 7 runs, 10 loops each)\n"
     ]
    }
   ],
   "source": [
    "%timeit get_bounds(pixels)"
   ]
  },
  {
   "cell_type": "code",
   "execution_count": null,
   "metadata": {},
   "outputs": [],
   "source": []
  },
  {
   "cell_type": "code",
   "execution_count": 74,
   "metadata": {},
   "outputs": [],
   "source": [
    "def annotate(filename):\n",
    "    pixels = prepare(filename)\n",
    "    width = len(pixels)\n",
    "    height = len(pixels[0])\n",
    "    info = get_bounds(pixels)\n",
    "    return {\n",
    "        \"filename\": filename,\n",
    "        \"width\": width,\n",
    "        \"height\": height,\n",
    "        \"bounds\": info\n",
    "    }"
   ]
  },
  {
   "cell_type": "code",
   "execution_count": 76,
   "metadata": {},
   "outputs": [
    {
     "name": "stdout",
     "output_type": "stream",
     "text": [
      "49.3 ms ± 275 µs per loop (mean ± std. dev. of 7 runs, 10 loops each)\n"
     ]
    }
   ],
   "source": [
    "%timeit annotate('bricks/3003 brick 2x2/3003 brick 2x2 000L.png')"
   ]
  },
  {
   "cell_type": "code",
   "execution_count": 78,
   "metadata": {},
   "outputs": [
    {
     "data": {
      "text/plain": [
       "'{\"filename\": \"bricks/3003 brick 2x2/3003 brick 2x2 000L.png\", \"width\": 400, \"height\": 400, \"bounds\": {\"xmin\": 94, \"xmax\": 325, \"ymin\": 67, \"ymax\": 330}}'"
      ]
     },
     "execution_count": 78,
     "metadata": {},
     "output_type": "execute_result"
    }
   ],
   "source": [
    "json.dumps(annotate('bricks/3003 brick 2x2/3003 brick 2x2 000L.png'))"
   ]
  }
 ],
 "metadata": {
  "kernelspec": {
   "display_name": "TRAFFIC_NEW",
   "language": "python",
   "name": "python3"
  },
  "language_info": {
   "codemirror_mode": {
    "name": "ipython",
    "version": 3
   },
   "file_extension": ".py",
   "mimetype": "text/x-python",
   "name": "python",
   "nbconvert_exporter": "python",
   "pygments_lexer": "ipython3",
   "version": "3.10.13"
  }
 },
 "nbformat": 4,
 "nbformat_minor": 2
}
