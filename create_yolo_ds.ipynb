{
 "cells": [
  {
   "cell_type": "code",
   "execution_count": 1,
   "metadata": {},
   "outputs": [],
   "source": [
    "import os\n",
    "import json\n",
    "import shutil"
   ]
  },
  {
   "cell_type": "code",
   "execution_count": 2,
   "metadata": {},
   "outputs": [],
   "source": [
    "curdir = os.getcwd().replace(\"\\\\\", \"/\")"
   ]
  },
  {
   "cell_type": "code",
   "execution_count": 3,
   "metadata": {},
   "outputs": [],
   "source": [
    "with open(\"dataset.json\", \"r\") as infile:\n",
    "    dataset = json.load(infile)"
   ]
  },
  {
   "cell_type": "code",
   "execution_count": 4,
   "metadata": {},
   "outputs": [],
   "source": [
    "def get_name(path:str):\n",
    "    filename = path.split('/')[-1]\n",
    "    return filename.split('\\\\')[-1]\n",
    "\n",
    "def change_extension(filename:str, ext:str):\n",
    "    file = \".\".join(filename.split(\".\")[:-1])\n",
    "    return f\"{file}.{ext}\""
   ]
  },
  {
   "cell_type": "code",
   "execution_count": 5,
   "metadata": {},
   "outputs": [],
   "source": [
    "train = [*map(lambda z: (z, change_extension(get_name(z), \"txt\")), dataset['train'])]\n",
    "eval = [*map(lambda z: (z, change_extension(get_name(z), \"txt\")), dataset['eval'])]"
   ]
  },
  {
   "cell_type": "code",
   "execution_count": 5,
   "metadata": {},
   "outputs": [
    {
     "data": {
      "text/plain": [
       "('bricks/3021 plate 2x3/3021 plate 2x3 078L.jpg', '3021 plate 2x3 078L.txt')"
      ]
     },
     "execution_count": 5,
     "metadata": {},
     "output_type": "execute_result"
    }
   ],
   "source": [
    "eval[1]"
   ]
  },
  {
   "cell_type": "code",
   "execution_count": null,
   "metadata": {},
   "outputs": [],
   "source": [
    "for image_path, labels_name in train:\n",
    "    shutil.move(os.path.join(\"yolo\", \"labels\", labels_name), os.path.join(\"yolo\", \"labels\", \"train\", labels_name))\n",
    "    os.symlink(f\"{curdir}/{image_path}\", os.path.join(\"yolo\", \"images\", \"train\", get_name(image_path)))"
   ]
  },
  {
   "cell_type": "code",
   "execution_count": 7,
   "metadata": {},
   "outputs": [],
   "source": [
    "for image_path, labels_name in eval:\n",
    "    shutil.move(os.path.join(\"yolo\", \"labels\", labels_name), os.path.join(\"yolo\", \"labels\", \"eval\", labels_name))\n",
    "    os.symlink(f\"{curdir}/{image_path}\", os.path.join(\"yolo\", \"images\", \"eval\", get_name(image_path)))"
   ]
  }
 ],
 "metadata": {
  "kernelspec": {
   "display_name": "TRAFFIC_NEW",
   "language": "python",
   "name": "python3"
  },
  "language_info": {
   "codemirror_mode": {
    "name": "ipython",
    "version": 3
   },
   "file_extension": ".py",
   "mimetype": "text/x-python",
   "name": "python",
   "nbconvert_exporter": "python",
   "pygments_lexer": "ipython3",
   "version": "3.10.13"
  }
 },
 "nbformat": 4,
 "nbformat_minor": 2
}
